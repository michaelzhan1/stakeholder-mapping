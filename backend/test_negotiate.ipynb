{
 "cells": [
  {
   "cell_type": "code",
   "execution_count": 1,
   "metadata": {},
   "outputs": [],
   "source": [
    "import argparse\n",
    "import os\n",
    "from typing import Tuple\n",
    "\n",
    "import gymnasium\n",
    "import numpy as np\n",
    "import pandas as pd\n",
    "import torch\n",
    "from tianshou.data import Batch, Collector, VectorReplayBuffer\n",
    "from tianshou.env import DummyVectorEnv\n",
    "from tianshou.env.pettingzoo_env import PettingZooEnv\n",
    "from tianshou.policy import BasePolicy, DQNPolicy, MultiAgentPolicyManager\n",
    "from tianshou.trainer import offpolicy_trainer\n",
    "from tianshou.utils import TensorboardLogger\n",
    "from tianshou.utils.net.common import Net\n",
    "from torch.utils.tensorboard import SummaryWriter\n",
    "\n",
    "from env.negotiation import NegotiationEnv\n",
    "from env.negotiation import Outcome"
   ]
  },
  {
   "cell_type": "code",
   "execution_count": 2,
   "metadata": {},
   "outputs": [],
   "source": [
    "def get_parser() -> argparse.ArgumentParser:\n",
    "    parser = argparse.ArgumentParser()\n",
    "    parser.add_argument(\"--seed\", type=int, default=1626)\n",
    "    parser.add_argument(\"--eps-test\", type=float, default=0.05)\n",
    "    parser.add_argument(\"--eps-train\", type=float, default=0.1)\n",
    "    parser.add_argument(\"--buffer-size\", type=int, default=20000)\n",
    "    parser.add_argument(\"--lr\", type=float, default=1e-4)\n",
    "    parser.add_argument(\n",
    "        \"--gamma\", type=float, default=0.9, help=\"a smaller gamma favors earlier win\"\n",
    "    )\n",
    "    parser.add_argument(\"--n-step\", type=int, default=3)\n",
    "    parser.add_argument(\"--target-update-freq\", type=int, default=320)\n",
    "    parser.add_argument(\"--epoch\", type=int, default=20)\n",
    "    parser.add_argument(\"--step-per-epoch\", type=int, default=1000)\n",
    "    parser.add_argument(\"--step-per-collect\", type=int, default=10)\n",
    "    parser.add_argument(\"--update-per-step\", type=float, default=0.1)\n",
    "    parser.add_argument(\"--batch-size\", type=int, default=64)\n",
    "    parser.add_argument(\n",
    "        \"--hidden-sizes\", type=int, nargs=\"*\", default=[128, 128, 128, 128]\n",
    "    )\n",
    "    parser.add_argument(\"--training-num\", type=int, default=10)\n",
    "    parser.add_argument(\"--test-num\", type=int, default=10)\n",
    "    parser.add_argument(\"--logdir\", type=str, default=\"log\")\n",
    "    parser.add_argument(\"--render\", type=float, default=0.1)\n",
    "    parser.add_argument(\n",
    "        \"--win-rate\",\n",
    "        type=float,\n",
    "        default=0.6,\n",
    "        help=\"the expected winning rate: Optimal policy can get 0.7\",\n",
    "    )\n",
    "    parser.add_argument(\n",
    "        \"--watch\",\n",
    "        default=False,\n",
    "        action=\"store_true\",\n",
    "        help=\"no training, \" \"watch the play of pre-trained models\",\n",
    "    )\n",
    "    parser.add_argument(\n",
    "        \"--agent-id\",\n",
    "        type=int,\n",
    "        default=2,\n",
    "        help=\"the learned agent plays as the\"\n",
    "        \" agent_id-th player. Choices are 1 and 2.\",\n",
    "    )\n",
    "    parser.add_argument(\n",
    "        \"--resume-path\",\n",
    "        type=str,\n",
    "        default=\"\",\n",
    "        help=\"the path of agent pth file \" \"for resuming from a pre-trained agent\",\n",
    "    )\n",
    "    parser.add_argument(\n",
    "        \"--opponent-path\",\n",
    "        type=str,\n",
    "        default=\"\",\n",
    "        help=\"the path of opponent agent pth file \"\n",
    "        \"for resuming from a pre-trained agent\",\n",
    "    )\n",
    "    parser.add_argument(\n",
    "        \"--device\", type=str, default=\"cuda\" if torch.cuda.is_available() else \"cpu\"\n",
    "    )\n",
    "    return parser\n",
    "\n",
    "\n",
    "def get_args() -> argparse.Namespace:\n",
    "    parser = get_parser()\n",
    "    return parser.parse_known_args()[0]\n",
    "\n",
    "\n",
    "def get_agents(\n",
    "    args: argparse.Namespace = get_args(),\n",
    "    stakeholder_vals: np.ndarray | None = None\n",
    ") -> Tuple[BasePolicy, torch.optim.Optimizer, list]:\n",
    "    env = get_env(stakeholder_vals)\n",
    "    observation_space = (\n",
    "        env.observation_space[\"observation\"]\n",
    "        if isinstance(env.observation_space, gymnasium.spaces.Dict)\n",
    "        else env.observation_space\n",
    "    )\n",
    "    args.state_shape = observation_space.shape or observation_space.n\n",
    "    args.action_shape = env.action_space.shape or env.action_space.n\n",
    "\n",
    "\n",
    "    agents = []\n",
    "    for _ in range(env.env.n_agents):\n",
    "        net = Net(\n",
    "            args.state_shape,\n",
    "            args.action_shape,\n",
    "            hidden_sizes=args.hidden_sizes,\n",
    "            device=args.device,\n",
    "        ).to(args.device)\n",
    "        optim = torch.optim.Adam(net.parameters(), lr=args.lr)\n",
    "\n",
    "        agents.append(DQNPolicy(net, optim, args.gamma, args.n_step, target_update_freq=args.target_update_freq))\n",
    "    policy = MultiAgentPolicyManager(agents, env)\n",
    "    return policy, env.agents\n",
    "\n",
    "\n",
    "def get_env(data=None, render_mode=None):\n",
    "    return PettingZooEnv(NegotiationEnv(stakeholder_matrix=data, render_mode=render_mode))\n",
    "\n",
    "\n",
    "def train_agent(\n",
    "    args: argparse.Namespace = get_args(),\n",
    "    stakeholder_vals: np.ndarray | None = None\n",
    ") -> Tuple[dict, BasePolicy]:\n",
    "    # ======== environment setup =========\n",
    "    train_envs = DummyVectorEnv([lambda: get_env(stakeholder_vals) for _ in range(args.training_num)])\n",
    "    test_envs = DummyVectorEnv([lambda: get_env(stakeholder_vals) for _ in range(args.test_num)])\n",
    "    # seed\n",
    "    np.random.seed(args.seed)\n",
    "    torch.manual_seed(args.seed)\n",
    "    train_envs.seed(args.seed)\n",
    "    test_envs.seed(args.seed)\n",
    "\n",
    "    # ======== agent setup =========\n",
    "    policy, agents = get_agents(args, stakeholder_vals)\n",
    "\n",
    "    # ======== collector setup =========\n",
    "    train_collector = Collector(\n",
    "        policy,\n",
    "        train_envs,\n",
    "        VectorReplayBuffer(args.buffer_size, len(train_envs)),\n",
    "        exploration_noise=True,\n",
    "    )\n",
    "    test_collector = Collector(policy, test_envs, exploration_noise=True)\n",
    "    # policy.set_eps(1)\n",
    "    train_collector.collect(n_step=args.batch_size * args.training_num)\n",
    "\n",
    "    # ======== tensorboard logging setup =========\n",
    "    log_path = os.path.join(args.logdir, \"negotiate\", \"dqn\")\n",
    "    writer = SummaryWriter(log_path)\n",
    "    writer.add_text(\"args\", str(args))\n",
    "    logger = TensorboardLogger(writer)\n",
    "\n",
    "    # ======== callback functions used during training =========\n",
    "    def save_best_fn(policy):\n",
    "        if hasattr(args, \"model_save_path\"):\n",
    "            model_save_path = args.model_save_path\n",
    "        else:\n",
    "            model_save_path = os.path.join(\n",
    "                args.logdir, \"negotiate\", \"dqn\", \"policy.pth\"\n",
    "            )\n",
    "        torch.save(\n",
    "            policy.policies[agents[args.agent_id - 1]].state_dict(), model_save_path\n",
    "        )\n",
    "\n",
    "    def stop_fn(mean_rewards):\n",
    "        return mean_rewards >= args.win_rate\n",
    "\n",
    "    def train_fn(epoch, env_step):\n",
    "        policy.policies[agents[args.agent_id - 1]].set_eps(args.eps_train)\n",
    "\n",
    "    def test_fn(epoch, env_step):\n",
    "        policy.policies[agents[args.agent_id - 1]].set_eps(args.eps_test)\n",
    "\n",
    "    def reward_metric(rews):\n",
    "        return rews[:, args.agent_id - 1]\n",
    "\n",
    "    # trainer\n",
    "    result = offpolicy_trainer(\n",
    "        policy,\n",
    "        train_collector,\n",
    "        test_collector,\n",
    "        args.epoch,\n",
    "        args.step_per_epoch,\n",
    "        args.step_per_collect,\n",
    "        args.test_num,\n",
    "        args.batch_size,\n",
    "        train_fn=train_fn,\n",
    "        test_fn=test_fn,\n",
    "        # stop_fn=stop_fn,\n",
    "        save_best_fn=save_best_fn,\n",
    "        update_per_step=args.update_per_step,\n",
    "        logger=logger,\n",
    "        test_in_train=False,\n",
    "        reward_metric=reward_metric\n",
    "    )\n",
    "\n",
    "    return result, policy.policies"
   ]
  },
  {
   "cell_type": "code",
   "execution_count": 3,
   "metadata": {},
   "outputs": [
    {
     "name": "stderr",
     "output_type": "stream",
     "text": [
      "Epoch #1: 1001it [00:03, 279.62it/s, agent_1/loss=6.036, agent_2/loss=133.293, agent_3/loss=1.976, env_step=1000, len=5, n/ep=0, n/st=10, rew=-2.88]                          \n"
     ]
    },
    {
     "name": "stdout",
     "output_type": "stream",
     "text": [
      "Epoch #1: test_reward: 3.760000 ± 11.093710, best_reward: 3.760000 ± 11.093710 in #1\n"
     ]
    },
    {
     "name": "stderr",
     "output_type": "stream",
     "text": [
      "Epoch #2: 1001it [00:02, 422.68it/s, agent_1/loss=17.016, agent_2/loss=92.521, agent_3/loss=1.784, env_step=2000, len=6, n/ep=0, n/st=10, rew=16.00]                            \n"
     ]
    },
    {
     "name": "stdout",
     "output_type": "stream",
     "text": [
      "Epoch #2: test_reward: 8.450000 ± 7.402061, best_reward: 8.450000 ± 7.402061 in #2\n"
     ]
    },
    {
     "name": "stderr",
     "output_type": "stream",
     "text": [
      "Epoch #3: 1001it [00:02, 418.14it/s, agent_1/loss=24.572, agent_2/loss=52.648, agent_3/loss=2.336, env_step=3000, len=12, n/ep=0, n/st=10, rew=7.75]                          \n"
     ]
    },
    {
     "name": "stdout",
     "output_type": "stream",
     "text": [
      "Epoch #3: test_reward: 6.950000 ± 8.503558, best_reward: 8.450000 ± 7.402061 in #2\n"
     ]
    },
    {
     "name": "stderr",
     "output_type": "stream",
     "text": [
      "Epoch #4: 1001it [00:02, 428.68it/s, agent_1/loss=16.453, agent_2/loss=13.597, agent_3/loss=1.635, env_step=4000, len=6, n/ep=1, n/st=10, rew=-3.20]                          \n"
     ]
    },
    {
     "name": "stdout",
     "output_type": "stream",
     "text": [
      "Epoch #4: test_reward: 6.950000 ± 8.503558, best_reward: 8.450000 ± 7.402061 in #2\n"
     ]
    },
    {
     "name": "stderr",
     "output_type": "stream",
     "text": [
      "Epoch #5: 1001it [00:02, 398.48it/s, agent_1/loss=14.299, agent_2/loss=8.524, agent_3/loss=1.714, env_step=5000, len=6, n/ep=1, n/st=10, rew=16.00]                           \n"
     ]
    },
    {
     "name": "stdout",
     "output_type": "stream",
     "text": [
      "Epoch #5: test_reward: 6.950000 ± 8.503558, best_reward: 8.450000 ± 7.402061 in #2\n"
     ]
    },
    {
     "name": "stderr",
     "output_type": "stream",
     "text": [
      "Epoch #6: 1001it [00:02, 406.76it/s, agent_1/loss=18.012, agent_2/loss=12.645, agent_3/loss=1.726, env_step=6000, len=3, n/ep=1, n/st=10, rew=12.00]                          \n"
     ]
    },
    {
     "name": "stdout",
     "output_type": "stream",
     "text": [
      "Epoch #6: test_reward: 7.850000 ± 7.731138, best_reward: 8.450000 ± 7.402061 in #2\n"
     ]
    },
    {
     "name": "stderr",
     "output_type": "stream",
     "text": [
      "Epoch #7: 1001it [00:02, 413.04it/s, agent_1/loss=18.907, agent_2/loss=13.960, agent_3/loss=1.736, env_step=7000, len=6, n/ep=1, n/st=10, rew=11.70]                          \n"
     ]
    },
    {
     "name": "stdout",
     "output_type": "stream",
     "text": [
      "Epoch #7: test_reward: 6.950000 ± 8.503558, best_reward: 8.450000 ± 7.402061 in #2\n"
     ]
    },
    {
     "name": "stderr",
     "output_type": "stream",
     "text": [
      "Epoch #8: 1001it [00:02, 404.56it/s, agent_1/loss=17.465, agent_2/loss=11.791, agent_3/loss=1.374, env_step=8000, len=6, n/ep=0, n/st=10, rew=-0.50]                          \n"
     ]
    },
    {
     "name": "stdout",
     "output_type": "stream",
     "text": [
      "Epoch #8: test_reward: 6.950000 ± 8.503558, best_reward: 8.450000 ± 7.402061 in #2\n"
     ]
    },
    {
     "name": "stderr",
     "output_type": "stream",
     "text": [
      "Epoch #9: 1001it [00:02, 399.99it/s, agent_1/loss=17.603, agent_2/loss=13.597, agent_3/loss=1.512, env_step=9000, len=6, n/ep=0, n/st=10, rew=-0.50]                          \n"
     ]
    },
    {
     "name": "stdout",
     "output_type": "stream",
     "text": [
      "Epoch #9: test_reward: 6.950000 ± 8.503558, best_reward: 8.450000 ± 7.402061 in #2\n"
     ]
    },
    {
     "name": "stderr",
     "output_type": "stream",
     "text": [
      "Epoch #10: 1001it [00:02, 417.48it/s, agent_1/loss=16.059, agent_2/loss=11.684, agent_3/loss=1.538, env_step=10000, len=5, n/ep=3, n/st=10, rew=8.27]                           \n"
     ]
    },
    {
     "name": "stdout",
     "output_type": "stream",
     "text": [
      "Epoch #10: test_reward: 6.950000 ± 8.503558, best_reward: 8.450000 ± 7.402061 in #2\n"
     ]
    },
    {
     "name": "stderr",
     "output_type": "stream",
     "text": [
      "Epoch #11: 1001it [00:03, 289.39it/s, agent_1/loss=18.361, agent_2/loss=15.271, agent_3/loss=1.713, env_step=11000, len=8, n/ep=2, n/st=10, rew=10.50]                          \n"
     ]
    },
    {
     "name": "stdout",
     "output_type": "stream",
     "text": [
      "Epoch #11: test_reward: 6.950000 ± 8.503558, best_reward: 8.450000 ± 7.402061 in #2\n"
     ]
    },
    {
     "name": "stderr",
     "output_type": "stream",
     "text": [
      "Epoch #12: 1001it [00:02, 371.40it/s, agent_1/loss=17.978, agent_2/loss=12.379, agent_3/loss=1.717, env_step=12000, len=3, n/ep=1, n/st=10, rew=12.00]                           \n"
     ]
    },
    {
     "name": "stdout",
     "output_type": "stream",
     "text": [
      "Epoch #12: test_reward: 6.950000 ± 8.503558, best_reward: 8.450000 ± 7.402061 in #2\n"
     ]
    },
    {
     "name": "stderr",
     "output_type": "stream",
     "text": [
      "Epoch #13: 1001it [00:02, 401.16it/s, agent_1/loss=18.067, agent_2/loss=12.910, agent_3/loss=1.739, env_step=13000, len=13, n/ep=2, n/st=10, rew=5.00]                          \n"
     ]
    },
    {
     "name": "stdout",
     "output_type": "stream",
     "text": [
      "Epoch #13: test_reward: 6.950000 ± 8.503558, best_reward: 8.450000 ± 7.402061 in #2\n"
     ]
    },
    {
     "name": "stderr",
     "output_type": "stream",
     "text": [
      "Epoch #14: 1001it [00:02, 429.88it/s, agent_1/loss=16.269, agent_2/loss=15.027, agent_3/loss=1.468, env_step=14000, len=7, n/ep=1, n/st=10, rew=17.70]                           \n"
     ]
    },
    {
     "name": "stdout",
     "output_type": "stream",
     "text": [
      "Epoch #14: test_reward: 6.950000 ± 8.503558, best_reward: 8.450000 ± 7.402061 in #2\n"
     ]
    },
    {
     "name": "stderr",
     "output_type": "stream",
     "text": [
      "Epoch #15: 1001it [00:02, 416.86it/s, agent_1/loss=16.167, agent_2/loss=12.963, agent_3/loss=1.306, env_step=15000, len=29, n/ep=3, n/st=10, rew=-7.67]                          \n"
     ]
    },
    {
     "name": "stdout",
     "output_type": "stream",
     "text": [
      "Epoch #15: test_reward: 6.950000 ± 8.503558, best_reward: 8.450000 ± 7.402061 in #2\n"
     ]
    },
    {
     "name": "stderr",
     "output_type": "stream",
     "text": [
      "Epoch #16: 1001it [00:02, 420.08it/s, agent_1/loss=16.224, agent_2/loss=13.130, agent_3/loss=1.214, env_step=16000, len=7, n/ep=3, n/st=10, rew=3.10]                            \n"
     ]
    },
    {
     "name": "stdout",
     "output_type": "stream",
     "text": [
      "Epoch #16: test_reward: 6.950000 ± 8.503558, best_reward: 8.450000 ± 7.402061 in #2\n"
     ]
    },
    {
     "name": "stderr",
     "output_type": "stream",
     "text": [
      "Epoch #17: 1001it [00:02, 408.70it/s, agent_1/loss=17.878, agent_2/loss=20.930, agent_3/loss=1.272, env_step=17000, len=3, n/ep=3, n/st=10, rew=7.93]                            \n"
     ]
    },
    {
     "name": "stdout",
     "output_type": "stream",
     "text": [
      "Epoch #17: test_reward: 6.950000 ± 8.503558, best_reward: 8.450000 ± 7.402061 in #2\n"
     ]
    },
    {
     "name": "stderr",
     "output_type": "stream",
     "text": [
      "Epoch #18: 1001it [00:02, 418.58it/s, agent_1/loss=18.066, agent_2/loss=25.040, agent_3/loss=1.176, env_step=18000, len=3, n/ep=2, n/st=10, rew=5.90]                           \n"
     ]
    },
    {
     "name": "stdout",
     "output_type": "stream",
     "text": [
      "Epoch #18: test_reward: 6.950000 ± 8.503558, best_reward: 8.450000 ± 7.402061 in #2\n"
     ]
    },
    {
     "name": "stderr",
     "output_type": "stream",
     "text": [
      "Epoch #19: 1001it [00:02, 410.27it/s, agent_1/loss=15.548, agent_2/loss=17.096, agent_3/loss=1.262, env_step=19000, len=3, n/ep=3, n/st=10, rew=3.27]                            \n"
     ]
    },
    {
     "name": "stdout",
     "output_type": "stream",
     "text": [
      "Epoch #19: test_reward: 6.950000 ± 8.503558, best_reward: 8.450000 ± 7.402061 in #2\n"
     ]
    },
    {
     "name": "stderr",
     "output_type": "stream",
     "text": [
      "Epoch #20: 1001it [00:02, 424.21it/s, agent_1/loss=16.097, agent_2/loss=13.173, agent_3/loss=1.240, env_step=20000, len=3, n/ep=1, n/st=10, rew=12.00]                          \n"
     ]
    },
    {
     "name": "stdout",
     "output_type": "stream",
     "text": [
      "Epoch #20: test_reward: 6.950000 ± 8.503558, best_reward: 8.450000 ± 7.402061 in #2\n"
     ]
    }
   ],
   "source": [
    "data = pd.read_csv('data/test.csv', header=None).values\n",
    "\n",
    "args = get_args()\n",
    "result, policies = train_agent(args, stakeholder_vals=data)"
   ]
  },
  {
   "cell_type": "code",
   "execution_count": 4,
   "metadata": {},
   "outputs": [
    {
     "name": "stdout",
     "output_type": "stream",
     "text": [
      "agent_1 targeting agent_2\n",
      "[[1 0 0]\n",
      " [0 1 0]\n",
      " [0 0 1]]\n",
      "\n",
      "agent_2 targeting agent_3\n",
      "[[1 0 0]\n",
      " [0 1 0]\n",
      " [0 0 1]]\n",
      "\n",
      "agent_3 targeting agent_1\n",
      "[[1 0 0]\n",
      " [0 1 0]\n",
      " [0 0 1]]\n",
      "\n",
      "agent_1 targeting agent_2\n",
      "[[1 0 0]\n",
      " [0 1 0]\n",
      " [0 0 1]]\n",
      "\n",
      "agent_2 targeting agent_3\n",
      "[[1 0 0]\n",
      " [0 1 0]\n",
      " [0 0 1]]\n",
      "\n",
      "agent_3 targeting agent_1\n",
      "[[1 0 0]\n",
      " [0 1 1]\n",
      " [0 1 1]]\n",
      "\n",
      "agent_1 targeting agent_2\n",
      "[[1 0 0]\n",
      " [0 1 1]\n",
      " [0 1 1]]\n",
      "\n",
      "agent_2 targeting agent_2\n",
      "[[1 1 0]\n",
      " [1 1 1]\n",
      " [0 1 1]]\n",
      "\n",
      "agent_3 targeting agent_1\n",
      "[[1 1 0]\n",
      " [1 1 1]\n",
      " [0 1 1]]\n",
      "\n",
      "agent_1 targeting agent_3\n",
      "[[1 1 0]\n",
      " [1 1 1]\n",
      " [0 1 1]]\n",
      "\n",
      "agent_2 targeting agent_2\n",
      "[[1 1 0]\n",
      " [1 1 1]\n",
      " [0 1 1]]\n",
      "\n",
      "agent_3 targeting agent_1\n",
      "[[1 1 0]\n",
      " [1 1 1]\n",
      " [0 1 1]]\n",
      "\n",
      "agent_1 targeting agent_3\n",
      "[[1 1 0]\n",
      " [1 1 1]\n",
      " [0 1 1]]\n",
      "\n",
      "agent_2 targeting agent_2\n",
      "[[1 1 0]\n",
      " [1 1 1]\n",
      " [0 1 1]]\n",
      "\n",
      "agent_3 targeting agent_1\n",
      "[[1 1 0]\n",
      " [1 1 1]\n",
      " [0 1 1]]\n",
      "\n",
      "agent_1 targeting agent_3\n",
      "[[1 1 0]\n",
      " [1 1 1]\n",
      " [0 1 1]]\n",
      "\n",
      "agent_2 targeting agent_2\n",
      "[[1 1 0]\n",
      " [1 1 1]\n",
      " [0 1 1]]\n",
      "\n",
      "agent_3 targeting agent_1\n",
      "[[1 1 0]\n",
      " [1 1 1]\n",
      " [0 1 1]]\n",
      "\n",
      "agent_1 targeting agent_3\n",
      "[[1 1 0]\n",
      " [1 1 1]\n",
      " [0 1 1]]\n",
      "\n",
      "Final state:\n",
      "[[1 1 1]\n",
      " [1 1 1]\n",
      " [1 1 1]]\n"
     ]
    }
   ],
   "source": [
    "env = get_env(data)\n",
    "obs, info = env.reset()\n",
    "done = False\n",
    "while not done:\n",
    "    agent = env.env.agent_selection\n",
    "    policy = policies[agent]\n",
    "    action = policy.forward(batch=Batch(obs=[obs], info=[info])).act[0]\n",
    "\n",
    "    recipient = f'agent_{action + 1}'\n",
    "    print(f'{agent} targeting {recipient}')\n",
    "    print(env.env.observe(None))\n",
    "    print()\n",
    "    \n",
    "    obs, rew, done, truncated, info = env.step(action)\n",
    "print('Final state:')\n",
    "print(env.env.observe(None))\n",
    "env.close()"
   ]
  },
  {
   "cell_type": "code",
   "execution_count": null,
   "metadata": {},
   "outputs": [],
   "source": []
  }
 ],
 "metadata": {
  "kernelspec": {
   "display_name": ".venv",
   "language": "python",
   "name": "python3"
  },
  "language_info": {
   "codemirror_mode": {
    "name": "ipython",
    "version": 3
   },
   "file_extension": ".py",
   "mimetype": "text/x-python",
   "name": "python",
   "nbconvert_exporter": "python",
   "pygments_lexer": "ipython3",
   "version": "3.11.5"
  }
 },
 "nbformat": 4,
 "nbformat_minor": 2
}
